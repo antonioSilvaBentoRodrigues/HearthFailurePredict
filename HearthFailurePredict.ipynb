{
 "cells": [
  {
   "cell_type": "code",
   "execution_count": 23,
   "id": "58dc5ff9-68e3-4dae-bfca-62385d856180",
   "metadata": {},
   "outputs": [],
   "source": [
    "import warnings\n",
    "warnings.filterwarnings('ignore')\n",
    "\n",
    "import pandas as pd\n",
    "import numpy as np\n",
    "\n",
    "from sklearn.datasets import fetch_openml\n",
    "\n",
    "from sklearn.preprocessing import StandardScaler\n",
    "from sklearn.decomposition import PCA\n",
    "from sklearn.model_selection import train_test_split, cross_val_score\n",
    "\n",
    "from sklearn.svm import SVC\n",
    "from sklearn.ensemble import RandomForestClassifier, GradientBoostingClassifier\n",
    "from sklearn.neural_network import MLPClassifier\n",
    "from sklearn.linear_model import SGDClassifier, LogisticRegression\n",
    "from sklearn.gaussian_process import GaussianProcessClassifier\n",
    "\n",
    "from yellowbrick.classifier import ConfusionMatrix\n",
    "from sklearn.metrics import accuracy_score, classification_report\n",
    "\n",
    "import matplotlib.pyplot as plt\n",
    "import seaborn as sns\n",
    "import plotly.express as px\n",
    "pd.DataFrame.iteritems = pd.DataFrame.items"
   ]
  },
  {
   "cell_type": "markdown",
   "id": "19e9b831-3987-42c9-9aa2-ef8ec7bf6176",
   "metadata": {},
   "source": [
    "# Load data"
   ]
  },
  {
   "cell_type": "code",
   "execution_count": 2,
   "id": "ea035324-e67c-41d6-9b2e-f2ab3f20b3ce",
   "metadata": {},
   "outputs": [],
   "source": [
    "hearth_failure = fetch_openml('Heart_Failure_Prediction_-_Clinical_Records_', version=1, parser='auto')"
   ]
  },
  {
   "cell_type": "code",
   "execution_count": 3,
   "id": "bff82be8-8254-40c9-a0f3-e29831c37268",
   "metadata": {},
   "outputs": [],
   "source": [
    "df_hearth = hearth_failure.data"
   ]
  },
  {
   "cell_type": "markdown",
   "id": "3eb929d2-81d7-497f-9251-361877d2e253",
   "metadata": {},
   "source": [
    "# Data study"
   ]
  },
  {
   "cell_type": "code",
   "execution_count": 4,
   "id": "dbe5eb0b-b11b-417f-9d98-f0478b669ba2",
   "metadata": {},
   "outputs": [
    {
     "data": {
      "text/html": [
       "<div>\n",
       "<style scoped>\n",
       "    .dataframe tbody tr th:only-of-type {\n",
       "        vertical-align: middle;\n",
       "    }\n",
       "\n",
       "    .dataframe tbody tr th {\n",
       "        vertical-align: top;\n",
       "    }\n",
       "\n",
       "    .dataframe thead th {\n",
       "        text-align: right;\n",
       "    }\n",
       "</style>\n",
       "<table border=\"1\" class=\"dataframe\">\n",
       "  <thead>\n",
       "    <tr style=\"text-align: right;\">\n",
       "      <th></th>\n",
       "      <th>age</th>\n",
       "      <th>anaemia</th>\n",
       "      <th>creatinine_phosphokinase</th>\n",
       "      <th>diabetes</th>\n",
       "      <th>ejection_fraction</th>\n",
       "      <th>high_blood_pressure</th>\n",
       "      <th>platelets</th>\n",
       "      <th>serum_creatinine</th>\n",
       "      <th>serum_sodium</th>\n",
       "      <th>sex</th>\n",
       "      <th>smoking</th>\n",
       "      <th>time</th>\n",
       "      <th>DEATH_EVENT</th>\n",
       "    </tr>\n",
       "  </thead>\n",
       "  <tbody>\n",
       "    <tr>\n",
       "      <th>0</th>\n",
       "      <td>55.0</td>\n",
       "      <td>0.0</td>\n",
       "      <td>748.0</td>\n",
       "      <td>0.0</td>\n",
       "      <td>45.0</td>\n",
       "      <td>0.0</td>\n",
       "      <td>263358.03</td>\n",
       "      <td>1.3</td>\n",
       "      <td>137.0</td>\n",
       "      <td>1.0</td>\n",
       "      <td>1.0</td>\n",
       "      <td>88.0</td>\n",
       "      <td>0.0</td>\n",
       "    </tr>\n",
       "    <tr>\n",
       "      <th>1</th>\n",
       "      <td>65.0</td>\n",
       "      <td>0.0</td>\n",
       "      <td>56.0</td>\n",
       "      <td>0.0</td>\n",
       "      <td>25.0</td>\n",
       "      <td>0.0</td>\n",
       "      <td>305000.00</td>\n",
       "      <td>5.0</td>\n",
       "      <td>130.0</td>\n",
       "      <td>1.0</td>\n",
       "      <td>0.0</td>\n",
       "      <td>207.0</td>\n",
       "      <td>0.0</td>\n",
       "    </tr>\n",
       "    <tr>\n",
       "      <th>2</th>\n",
       "      <td>45.0</td>\n",
       "      <td>0.0</td>\n",
       "      <td>582.0</td>\n",
       "      <td>1.0</td>\n",
       "      <td>38.0</td>\n",
       "      <td>0.0</td>\n",
       "      <td>319000.00</td>\n",
       "      <td>0.9</td>\n",
       "      <td>140.0</td>\n",
       "      <td>0.0</td>\n",
       "      <td>0.0</td>\n",
       "      <td>244.0</td>\n",
       "      <td>0.0</td>\n",
       "    </tr>\n",
       "    <tr>\n",
       "      <th>3</th>\n",
       "      <td>60.0</td>\n",
       "      <td>1.0</td>\n",
       "      <td>754.0</td>\n",
       "      <td>1.0</td>\n",
       "      <td>40.0</td>\n",
       "      <td>1.0</td>\n",
       "      <td>328000.00</td>\n",
       "      <td>1.2</td>\n",
       "      <td>126.0</td>\n",
       "      <td>1.0</td>\n",
       "      <td>0.0</td>\n",
       "      <td>90.0</td>\n",
       "      <td>0.0</td>\n",
       "    </tr>\n",
       "    <tr>\n",
       "      <th>4</th>\n",
       "      <td>95.0</td>\n",
       "      <td>1.0</td>\n",
       "      <td>582.0</td>\n",
       "      <td>0.0</td>\n",
       "      <td>30.0</td>\n",
       "      <td>0.0</td>\n",
       "      <td>461000.00</td>\n",
       "      <td>2.0</td>\n",
       "      <td>132.0</td>\n",
       "      <td>1.0</td>\n",
       "      <td>0.0</td>\n",
       "      <td>50.0</td>\n",
       "      <td>1.0</td>\n",
       "    </tr>\n",
       "    <tr>\n",
       "      <th>...</th>\n",
       "      <td>...</td>\n",
       "      <td>...</td>\n",
       "      <td>...</td>\n",
       "      <td>...</td>\n",
       "      <td>...</td>\n",
       "      <td>...</td>\n",
       "      <td>...</td>\n",
       "      <td>...</td>\n",
       "      <td>...</td>\n",
       "      <td>...</td>\n",
       "      <td>...</td>\n",
       "      <td>...</td>\n",
       "      <td>...</td>\n",
       "    </tr>\n",
       "    <tr>\n",
       "      <th>4995</th>\n",
       "      <td>45.0</td>\n",
       "      <td>0.0</td>\n",
       "      <td>582.0</td>\n",
       "      <td>1.0</td>\n",
       "      <td>55.0</td>\n",
       "      <td>0.0</td>\n",
       "      <td>543000.00</td>\n",
       "      <td>1.0</td>\n",
       "      <td>132.0</td>\n",
       "      <td>0.0</td>\n",
       "      <td>0.0</td>\n",
       "      <td>250.0</td>\n",
       "      <td>0.0</td>\n",
       "    </tr>\n",
       "    <tr>\n",
       "      <th>4996</th>\n",
       "      <td>60.0</td>\n",
       "      <td>1.0</td>\n",
       "      <td>582.0</td>\n",
       "      <td>0.0</td>\n",
       "      <td>30.0</td>\n",
       "      <td>1.0</td>\n",
       "      <td>127000.00</td>\n",
       "      <td>0.9</td>\n",
       "      <td>145.0</td>\n",
       "      <td>0.0</td>\n",
       "      <td>0.0</td>\n",
       "      <td>95.0</td>\n",
       "      <td>0.0</td>\n",
       "    </tr>\n",
       "    <tr>\n",
       "      <th>4997</th>\n",
       "      <td>95.0</td>\n",
       "      <td>1.0</td>\n",
       "      <td>112.0</td>\n",
       "      <td>0.0</td>\n",
       "      <td>40.0</td>\n",
       "      <td>1.0</td>\n",
       "      <td>196000.00</td>\n",
       "      <td>1.0</td>\n",
       "      <td>138.0</td>\n",
       "      <td>0.0</td>\n",
       "      <td>0.0</td>\n",
       "      <td>24.0</td>\n",
       "      <td>1.0</td>\n",
       "    </tr>\n",
       "    <tr>\n",
       "      <th>4998</th>\n",
       "      <td>65.0</td>\n",
       "      <td>1.0</td>\n",
       "      <td>160.0</td>\n",
       "      <td>1.0</td>\n",
       "      <td>20.0</td>\n",
       "      <td>0.0</td>\n",
       "      <td>327000.00</td>\n",
       "      <td>2.7</td>\n",
       "      <td>116.0</td>\n",
       "      <td>0.0</td>\n",
       "      <td>0.0</td>\n",
       "      <td>8.0</td>\n",
       "      <td>1.0</td>\n",
       "    </tr>\n",
       "    <tr>\n",
       "      <th>4999</th>\n",
       "      <td>40.0</td>\n",
       "      <td>0.0</td>\n",
       "      <td>244.0</td>\n",
       "      <td>0.0</td>\n",
       "      <td>45.0</td>\n",
       "      <td>1.0</td>\n",
       "      <td>275000.00</td>\n",
       "      <td>0.9</td>\n",
       "      <td>140.0</td>\n",
       "      <td>0.0</td>\n",
       "      <td>0.0</td>\n",
       "      <td>174.0</td>\n",
       "      <td>0.0</td>\n",
       "    </tr>\n",
       "  </tbody>\n",
       "</table>\n",
       "<p>5000 rows × 13 columns</p>\n",
       "</div>"
      ],
      "text/plain": [
       "       age  anaemia  creatinine_phosphokinase  diabetes  ejection_fraction  \\\n",
       "0     55.0      0.0                     748.0       0.0               45.0   \n",
       "1     65.0      0.0                      56.0       0.0               25.0   \n",
       "2     45.0      0.0                     582.0       1.0               38.0   \n",
       "3     60.0      1.0                     754.0       1.0               40.0   \n",
       "4     95.0      1.0                     582.0       0.0               30.0   \n",
       "...    ...      ...                       ...       ...                ...   \n",
       "4995  45.0      0.0                     582.0       1.0               55.0   \n",
       "4996  60.0      1.0                     582.0       0.0               30.0   \n",
       "4997  95.0      1.0                     112.0       0.0               40.0   \n",
       "4998  65.0      1.0                     160.0       1.0               20.0   \n",
       "4999  40.0      0.0                     244.0       0.0               45.0   \n",
       "\n",
       "      high_blood_pressure  platelets  serum_creatinine  serum_sodium  sex  \\\n",
       "0                     0.0  263358.03               1.3         137.0  1.0   \n",
       "1                     0.0  305000.00               5.0         130.0  1.0   \n",
       "2                     0.0  319000.00               0.9         140.0  0.0   \n",
       "3                     1.0  328000.00               1.2         126.0  1.0   \n",
       "4                     0.0  461000.00               2.0         132.0  1.0   \n",
       "...                   ...        ...               ...           ...  ...   \n",
       "4995                  0.0  543000.00               1.0         132.0  0.0   \n",
       "4996                  1.0  127000.00               0.9         145.0  0.0   \n",
       "4997                  1.0  196000.00               1.0         138.0  0.0   \n",
       "4998                  0.0  327000.00               2.7         116.0  0.0   \n",
       "4999                  1.0  275000.00               0.9         140.0  0.0   \n",
       "\n",
       "      smoking   time  DEATH_EVENT  \n",
       "0         1.0   88.0          0.0  \n",
       "1         0.0  207.0          0.0  \n",
       "2         0.0  244.0          0.0  \n",
       "3         0.0   90.0          0.0  \n",
       "4         0.0   50.0          1.0  \n",
       "...       ...    ...          ...  \n",
       "4995      0.0  250.0          0.0  \n",
       "4996      0.0   95.0          0.0  \n",
       "4997      0.0   24.0          1.0  \n",
       "4998      0.0    8.0          1.0  \n",
       "4999      0.0  174.0          0.0  \n",
       "\n",
       "[5000 rows x 13 columns]"
      ]
     },
     "metadata": {},
     "output_type": "display_data"
    }
   ],
   "source": [
    "display(df_hearth)"
   ]
  },
  {
   "cell_type": "code",
   "execution_count": 5,
   "id": "94d197d6-2e2e-4558-bf27-a65f13c42d3b",
   "metadata": {},
   "outputs": [
    {
     "name": "stdout",
     "output_type": "stream",
     "text": [
      "<class 'pandas.core.frame.DataFrame'>\n",
      "RangeIndex: 5000 entries, 0 to 4999\n",
      "Data columns (total 13 columns):\n",
      " #   Column                    Non-Null Count  Dtype  \n",
      "---  ------                    --------------  -----  \n",
      " 0   age                       5000 non-null   float64\n",
      " 1   anaemia                   5000 non-null   float64\n",
      " 2   creatinine_phosphokinase  5000 non-null   float64\n",
      " 3   diabetes                  5000 non-null   float64\n",
      " 4   ejection_fraction         5000 non-null   float64\n",
      " 5   high_blood_pressure       5000 non-null   float64\n",
      " 6   platelets                 5000 non-null   float64\n",
      " 7   serum_creatinine          5000 non-null   float64\n",
      " 8   serum_sodium              5000 non-null   float64\n",
      " 9   sex                       5000 non-null   float64\n",
      " 10  smoking                   5000 non-null   float64\n",
      " 11  time                      5000 non-null   float64\n",
      " 12  DEATH_EVENT               5000 non-null   float64\n",
      "dtypes: float64(13)\n",
      "memory usage: 507.9 KB\n"
     ]
    },
    {
     "data": {
      "text/plain": [
       "None"
      ]
     },
     "metadata": {},
     "output_type": "display_data"
    }
   ],
   "source": [
    "display(df_hearth.info())"
   ]
  },
  {
   "cell_type": "code",
   "execution_count": 6,
   "id": "53d69027-ea14-4391-ba41-0918306317fb",
   "metadata": {},
   "outputs": [
    {
     "data": {
      "image/png": "[encoded data removed]",
      "text/plain": [
       "<Figure size 1000x500 with 1 Axes>"
      ]
     },
     "metadata": {},
     "output_type": "display_data"
    }
   ],
   "source": [
    "plt.figure(figsize=(10, 5))\n",
    "sns.countplot(x=df_hearth['DEATH_EVENT'])\n",
    "plt.show()"
   ]
  },
  {
   "cell_type": "code",
   "execution_count": 7,
   "id": "f3092a20-176e-471a-ac10-9b7d2b5f31cb",
   "metadata": {},
   "outputs": [
    {
     "data": {
      "image/png": "[encoded data removed]",
      "text/plain": [
       "<Figure size 1000x500 with 1 Axes>"
      ]
     },
     "metadata": {},
     "output_type": "display_data"
    }
   ],
   "source": [
    "plt.figure(figsize=(10, 5))\n",
    "plt.hist(df_hearth['age'])\n",
    "plt.show()"
   ]
  },
  {
   "cell_type": "code",
   "execution_count": 8,
   "id": "0e7a92df-aebb-4b2f-b979-0fdda8cdc638",
   "metadata": {},
   "outputs": [
    {
     "data": {
      "image/png": "[encoded data removed]",
      "text/plain": [
       "<Figure size 2000x500 with 1 Axes>"
      ]
     },
     "metadata": {},
     "output_type": "display_data"
    }
   ],
   "source": [
    "plt.figure(figsize=(20, 5))\n",
    "df_hearth.boxplot()\n",
    "plt.show()"
   ]
  },
  {
   "cell_type": "code",
   "execution_count": 9,
   "id": "23d56d93-d43d-4b63-8070-d945c8806532",
   "metadata": {},
   "outputs": [
    {
     "data": {
      "image/png": "[encoded data removed]",
      "text/plain": [
       "<Figure size 1000x500 with 1 Axes>"
      ]
     },
     "metadata": {},
     "output_type": "display_data"
    }
   ],
   "source": [
    "plt.figure(figsize=(10, 5))\n",
    "sns.kdeplot(df_hearth, legend=None)\n",
    "plt.show()"
   ]
  },
  {
   "cell_type": "markdown",
   "id": "b8d55856-c134-47c9-9a05-084eba7b2fbb",
   "metadata": {},
   "source": [
    "# Data processing"
   ]
  },
  {
   "cell_type": "code",
   "execution_count": 10,
   "id": "f635d487-c863-4bbc-8cbf-af3bade5791b",
   "metadata": {},
   "outputs": [],
   "source": [
    "X_hearth = df_hearth.drop('DEATH_EVENT', axis=1)\n",
    "y_hearth = df_hearth['DEATH_EVENT']"
   ]
  },
  {
   "cell_type": "code",
   "execution_count": 11,
   "id": "790d85ac-d5cd-475e-81a0-148df20775c3",
   "metadata": {},
   "outputs": [
    {
     "data": {
      "text/plain": [
       "((5000, 12), (5000,))"
      ]
     },
     "execution_count": 11,
     "metadata": {},
     "output_type": "execute_result"
    }
   ],
   "source": [
    "X_hearth.shape, y_hearth.shape"
   ]
  },
  {
   "cell_type": "code",
   "execution_count": 12,
   "id": "b5380960-032a-4e03-a222-ee969d6e1428",
   "metadata": {},
   "outputs": [],
   "source": [
    "# Principal Component analysis\n",
    "pca = PCA()\n",
    "X_hearth = pca.fit_transform(X_hearth)"
   ]
  },
  {
   "cell_type": "code",
   "execution_count": 13,
   "id": "450548b8-2aab-482d-bdac-30ac0e8346c6",
   "metadata": {},
   "outputs": [
    {
     "data": {
      "text/plain": [
       "((5000, 12), (5000,))"
      ]
     },
     "execution_count": 13,
     "metadata": {},
     "output_type": "execute_result"
    }
   ],
   "source": [
    "X_hearth.shape, y_hearth.shape"
   ]
  },
  {
   "cell_type": "code",
   "execution_count": 14,
   "id": "e7930968-3d11-4b38-a7aa-09b91ea3a762",
   "metadata": {},
   "outputs": [],
   "source": [
    "# Split data into train and test\n",
    "X_train, X_test, y_train, y_test = train_test_split(X_hearth, y_hearth, \n",
    "                                                    test_size=0.3, shuffle=True,\n",
    "                                                    stratify=y_hearth, random_state=42)"
   ]
  },
  {
   "cell_type": "code",
   "execution_count": 15,
   "id": "e0776c49-75f4-43d3-b8a6-29dd0fcb62af",
   "metadata": {},
   "outputs": [
    {
     "data": {
      "text/plain": [
       "((3500, 12), (3500,))"
      ]
     },
     "execution_count": 15,
     "metadata": {},
     "output_type": "execute_result"
    }
   ],
   "source": [
    "# train Arrays dimensions\n",
    "X_train.shape, y_train.shape"
   ]
  },
  {
   "cell_type": "code",
   "execution_count": 16,
   "id": "5342326c-351e-4fc2-a625-70729049295f",
   "metadata": {},
   "outputs": [
    {
     "data": {
      "text/plain": [
       "((1500, 12), (1500,))"
      ]
     },
     "execution_count": 16,
     "metadata": {},
     "output_type": "execute_result"
    }
   ],
   "source": [
    "# test arrays dimensions\n",
    "X_test.shape, y_test.shape"
   ]
  },
  {
   "cell_type": "code",
   "execution_count": 17,
   "id": "0d22c3cd-0956-4bda-8127-bbc48edf85c4",
   "metadata": {},
   "outputs": [
    {
     "data": {
      "application/javascript": [
       "\n",
       "        if (window._pyforest_update_imports_cell) { window._pyforest_update_imports_cell('from sklearn.preprocessing import MinMaxScaler'); }\n",
       "    "
      ],
      "text/plain": [
       "<IPython.core.display.Javascript object>"
      ]
     },
     "metadata": {},
     "output_type": "display_data"
    }
   ],
   "source": [
    "# Data normalization, with MinMaxScaler\n",
    "scaler  =MinMaxScaler()\n",
    "X_train = scaler.fit_transform(X_train)\n",
    "X_test = scaler.fit_transform(X_test)"
   ]
  },
  {
   "cell_type": "markdown",
   "id": "280301af-a93d-4b3e-ba65-1f333e78cab9",
   "metadata": {},
   "source": [
    "# Model selection and evaluation"
   ]
  },
  {
   "cell_type": "code",
   "execution_count": 18,
   "id": "1ce0a6b2-d8de-4e71-9058-105461d34ed7",
   "metadata": {},
   "outputs": [],
   "source": [
    "models=(\n",
    "    ('LogisticRegression', LogisticRegression()),\n",
    "    ('RandomForest', RandomForestClassifier()),\n",
    "    ('SVC', SVC()),\n",
    "    ('MLP', MLPClassifier()),\n",
    "    ('SGD', SGDClassifier()),\n",
    "    ('GBC', GradientBoostingClassifier()),\n",
    "    ('GPC', GaussianProcessClassifier()))\n",
    "\n",
    "score='recall'"
   ]
  },
  {
   "cell_type": "code",
   "execution_count": 19,
   "id": "56282a5a-4f58-422a-9793-e8b1ebe1befa",
   "metadata": {},
   "outputs": [
    {
     "name": "stdout",
     "output_type": "stream",
     "text": [
      "Model:LogisticRegression->Mean Score:0.7176670817766707\n",
      "Model:RandomForest->Mean Score:0.9690369447903695\n",
      "Model:SVC->Mean Score:0.8297011207970112\n",
      "Model:MLP->Mean Score:0.808758821087588\n",
      "Model:SGD->Mean Score:0.6730593607305936\n",
      "Model:GBC->Mean Score:0.9608260689082607\n",
      "Model:GPC->Mean Score:0.7340805313408053\n"
     ]
    }
   ],
   "source": [
    "for name, model in models:\n",
    "    result = cross_val_score(model, X_train, y_train, scoring=score, cv=5)\n",
    "    print(f'Model:{name}->Mean Score:{result.mean()}')"
   ]
  },
  {
   "cell_type": "code",
   "execution_count": 22,
   "id": "b456a38b-a3b7-4b5e-8394-70701afd5877",
   "metadata": {},
   "outputs": [
    {
     "name": "stdout",
     "output_type": "stream",
     "text": [
      "0.9786666666666667\n"
     ]
    },
    {
     "data": {
      "image/png": "[encoded data removed]",
      "text/plain": [
       "<Figure size 800x550 with 1 Axes>"
      ]
     },
     "metadata": {},
     "output_type": "display_data"
    },
    {
     "name": "stdout",
     "output_type": "stream",
     "text": [
      "              precision    recall  f1-score   support\n",
      "\n",
      "         0.0       0.98      0.99      0.98      1030\n",
      "         1.0       0.98      0.95      0.97       470\n",
      "\n",
      "    accuracy                           0.98      1500\n",
      "   macro avg       0.98      0.97      0.98      1500\n",
      "weighted avg       0.98      0.98      0.98      1500\n",
      "\n"
     ]
    }
   ],
   "source": [
    "best_model = RandomForestClassifier().fit(X_train, y_train)\n",
    "y_pred = best_model.predict(X_test)\n",
    "print(accuracy_score(y_test, y_pred))\n",
    "cm=ConfusionMatrix(best_model)\n",
    "cm.fit(X_train, y_train)\n",
    "cm.score(X_test, y_test)\n",
    "cm.show()\n",
    "print(classification_report(y_test, y_pred))"
   ]
  }
 ],
 "metadata": {
  "kernelspec": {
   "display_name": "Python 3 (ipykernel)",
   "language": "python",
   "name": "python3"
  },
  "language_info": {
   "codemirror_mode": {
    "name": "ipython",
    "version": 3
   },
   "file_extension": ".py",
   "mimetype": "text/x-python",
   "name": "python",
   "nbconvert_exporter": "python",
   "pygments_lexer": "ipython3",
   "version": "3.11.7"
  }
 },
 "nbformat": 4,
 "nbformat_minor": 5
}
